{
 "cells": [
  {
   "cell_type": "code",
   "execution_count": null,
   "metadata": {},
   "outputs": [],
   "source": [
    "def swap(a,b):\n",
    "    temp=a\n",
    "    a=b\n",
    "    b=temp\n",
    "    return a, temp\n",
    "\n",
    "a=input(\"Enter a\")\n",
    "b=input(\"Enter b\")\n",
    "\n",
    "print(swap(a,b))"
   ]
  }
 ],
 "metadata": {
  "interpreter": {
   "hash": "a251d3e5f2f7ca51f390b93a356eba03596938570fb4e55d9937beb8b47cb790"
  },
  "kernelspec": {
   "display_name": "Python 3.9.6 64-bit",
   "language": "python",
   "name": "python3"
  },
  "language_info": {
   "codemirror_mode": {
    "name": "ipython",
    "version": 3
   },
   "file_extension": ".py",
   "mimetype": "text/x-python",
   "name": "python",
   "nbconvert_exporter": "python",
   "pygments_lexer": "ipython3",
   "version": "3.9.10"
  },
  "orig_nbformat": 4
 },
 "nbformat": 4,
 "nbformat_minor": 2
}
